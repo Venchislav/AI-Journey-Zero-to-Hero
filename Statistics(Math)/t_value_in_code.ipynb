{
  "nbformat": 4,
  "nbformat_minor": 0,
  "metadata": {
    "colab": {
      "provenance": []
    },
    "kernelspec": {
      "name": "python3",
      "display_name": "Python 3"
    },
    "language_info": {
      "name": "python"
    }
  },
  "cells": [
    {
      "cell_type": "code",
      "execution_count": 52,
      "metadata": {
        "id": "_2r-uyb8IGej"
      },
      "outputs": [],
      "source": [
        "import numpy as np\n",
        "import scipy.stats as stats\n",
        "import random\n",
        "import matplotlib.pyplot as plt"
      ]
    },
    {
      "cell_type": "code",
      "source": [
        "def standard_deviation(dist):\n",
        "  variance = 0\n",
        "\n",
        "  for i in dist:\n",
        "    variance += (i - np.mean(dist)) ** 2\n",
        "\n",
        "  variance /= len(dist)\n",
        "\n",
        "  # print(variance)\n",
        "\n",
        "  return variance ** 0.5"
      ],
      "metadata": {
        "id": "HxpNnQwcIMlf"
      },
      "execution_count": 53,
      "outputs": []
    },
    {
      "cell_type": "code",
      "source": [
        "# testing function\n",
        "standard_deviation([1, 2, 3, 4, 5])"
      ],
      "metadata": {
        "colab": {
          "base_uri": "https://localhost:8080/"
        },
        "id": "R7GzR2JuIjwG",
        "outputId": "f3b006ad-4c58-4c6f-cac9-999d87a612d8"
      },
      "execution_count": 54,
      "outputs": [
        {
          "output_type": "execute_result",
          "data": {
            "text/plain": [
              "1.4142135623730951"
            ]
          },
          "metadata": {},
          "execution_count": 54
        }
      ]
    },
    {
      "cell_type": "code",
      "source": [
        "x1 = np.array([random.uniform(10, 15) for _ in range(50)])\n",
        "x2 = np.array([random.uniform(10, 15) for _ in range(50)])"
      ],
      "metadata": {
        "id": "5ISX_e7lIqrF"
      },
      "execution_count": 55,
      "outputs": []
    },
    {
      "cell_type": "code",
      "source": [
        "def calculate_t_value(sample1, sample2):\n",
        "  mean_diff = x1.mean() - x2.mean()\n",
        "  sd_1 = standard_deviation(sample1)\n",
        "  sd_2 = standard_deviation(sample2)\n",
        "\n",
        "  t = mean_diff / ((sd_1 ** 2 / len(sample1) + sd_2 ** 2 / len(sample2)) ** 0.5)\n",
        "\n",
        "  return t"
      ],
      "metadata": {
        "id": "b4gpB2_TJd3h"
      },
      "execution_count": 56,
      "outputs": []
    },
    {
      "cell_type": "code",
      "source": [
        "t = calculate_t_value(x1, x2)\n",
        "t"
      ],
      "metadata": {
        "colab": {
          "base_uri": "https://localhost:8080/"
        },
        "id": "4N7jvcISKQ-v",
        "outputId": "7accd924-8015-4c33-9dc5-446c8edefe25"
      },
      "execution_count": 57,
      "outputs": [
        {
          "output_type": "execute_result",
          "data": {
            "text/plain": [
              "-1.797639984347592"
            ]
          },
          "metadata": {},
          "execution_count": 57
        }
      ]
    },
    {
      "cell_type": "code",
      "source": [
        "def probability(t_value, n):\n",
        "  df = n - 2\n",
        "\n",
        "  # we calculate for both tails:\n",
        "\n",
        "  p = 2 * (1 - stats.t.cdf(abs(t), df))\n",
        "\n",
        "  if p < 0.05:\n",
        "    return f'Your p value is {p}. It is < 0.05 -> H1 is acceptable!'\n",
        "\n",
        "  else:\n",
        "    return f'Your p value is {p}. It is > 0.05 -> H0 can not be rejected'"
      ],
      "metadata": {
        "id": "LRYxqZ5wKV_u"
      },
      "execution_count": 65,
      "outputs": []
    },
    {
      "cell_type": "code",
      "source": [
        "n = len(x1) + len(x2)\n",
        "probability(t, n)"
      ],
      "metadata": {
        "colab": {
          "base_uri": "https://localhost:8080/",
          "height": 36
        },
        "id": "ukPJe1ebLRKU",
        "outputId": "272f055f-8cb7-4992-9b30-70989bc3c365"
      },
      "execution_count": 66,
      "outputs": [
        {
          "output_type": "execute_result",
          "data": {
            "text/plain": [
              "'Your p value is 0.07531367267943057. It is > 0.05 -> H0 can not be rejected'"
            ],
            "application/vnd.google.colaboratory.intrinsic+json": {
              "type": "string"
            }
          },
          "metadata": {},
          "execution_count": 66
        }
      ]
    },
    {
      "cell_type": "code",
      "source": [
        "def build_confidence_intervals(x1, x2):\n",
        "  p_10 = [1.96 * np.std(x1), 1.96 * np.std(x1)]\n",
        "  p_90 = [1.96 * np.std(x2), 1.96 * np.std(x1)]\n",
        "  M = [x1.mean(), x2.mean()]\n",
        "\n",
        "  fig = plt.figure()\n",
        "  x = ['1st group', '2nd group']\n",
        "  y = M\n",
        "  yerr = [p_10, # 'down' error\n",
        "          p_90]  # 'up' error\n",
        "\n",
        "  plt.title('Confidence intervals for x1 and x2')\n",
        "  plt.errorbar(x, y, yerr=yerr, capsize=3, fmt=\"r--o\", ecolor = \"black\")\n",
        "  plt.show()\n",
        "\n",
        "build_confidence_intervals(x1, x2)"
      ],
      "metadata": {
        "id": "1n9ozcR6M6vo",
        "colab": {
          "base_uri": "https://localhost:8080/",
          "height": 452
        },
        "outputId": "1676dad9-eece-43a3-d302-5465db554ae0"
      },
      "execution_count": 67,
      "outputs": [
        {
          "output_type": "display_data",
          "data": {
            "text/plain": [
              "<Figure size 640x480 with 1 Axes>"
            ],
            "image/png": "[encoded data removed]"
          },
          "metadata": {}
        }
      ]
    },
    {
      "cell_type": "markdown",
      "source": [
        "As we can see mean of second lays in confidence interval of 1st group.\n",
        "That's why we can not reject H0."
      ],
      "metadata": {
        "id": "pNnOxreF0DN6"
      }
    },
    {
      "cell_type": "code",
      "source": [],
      "metadata": {
        "id": "aGeEMcyAx59f"
      },
      "execution_count": 67,
      "outputs": []
    }
  ]
}