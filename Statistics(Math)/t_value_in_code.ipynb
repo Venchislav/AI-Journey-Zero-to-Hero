{
  "nbformat": 4,
  "nbformat_minor": 0,
  "metadata": {
    "colab": {
      "provenance": []
    },
    "kernelspec": {
      "name": "python3",
      "display_name": "Python 3"
    },
    "language_info": {
      "name": "python"
    }
  },
  "cells": [
    {
      "cell_type": "code",
      "execution_count": 45,
      "metadata": {
        "id": "_2r-uyb8IGej"
      },
      "outputs": [],
      "source": [
        "import numpy as np\n",
        "import scipy.stats as stats\n",
        "import random"
      ]
    },
    {
      "cell_type": "code",
      "source": [
        "def standard_deviation(dist):\n",
        "  variance = 0\n",
        "\n",
        "  for i in dist:\n",
        "    variance += (i - np.mean(dist)) ** 2\n",
        "\n",
        "  variance /= len(dist)\n",
        "\n",
        "  # print(variance)\n",
        "\n",
        "  return variance ** 0.5"
      ],
      "metadata": {
        "id": "HxpNnQwcIMlf"
      },
      "execution_count": 46,
      "outputs": []
    },
    {
      "cell_type": "code",
      "source": [
        "# testing function\n",
        "standard_deviation([1, 2, 3, 4, 5])"
      ],
      "metadata": {
        "colab": {
          "base_uri": "https://localhost:8080/"
        },
        "id": "R7GzR2JuIjwG",
        "outputId": "497592e5-35fb-4f49-ad76-d6df29058da2"
      },
      "execution_count": 47,
      "outputs": [
        {
          "output_type": "execute_result",
          "data": {
            "text/plain": [
              "1.4142135623730951"
            ]
          },
          "metadata": {},
          "execution_count": 47
        }
      ]
    },
    {
      "cell_type": "code",
      "source": [
        "x1 = np.array([random.uniform(10, 15) for _ in range(50)])\n",
        "x2 = np.array([random.uniform(10, 15) for _ in range(50)])"
      ],
      "metadata": {
        "id": "5ISX_e7lIqrF"
      },
      "execution_count": 48,
      "outputs": []
    },
    {
      "cell_type": "code",
      "source": [
        "def calculate_t_value(sample1, sample2):\n",
        "  mean_diff = x1.mean() - x2.mean()\n",
        "  sd_1 = standard_deviation(sample1)\n",
        "  sd_2 = standard_deviation(sample2)\n",
        "\n",
        "  t = mean_diff / ((sd_1 ** 2 / len(sample1) + sd_2 ** 2 / len(sample2)) ** 0.5)\n",
        "\n",
        "  return t"
      ],
      "metadata": {
        "id": "b4gpB2_TJd3h"
      },
      "execution_count": 49,
      "outputs": []
    },
    {
      "cell_type": "code",
      "source": [
        "t = calculate_t_value(x1, x2)\n",
        "t"
      ],
      "metadata": {
        "colab": {
          "base_uri": "https://localhost:8080/"
        },
        "id": "4N7jvcISKQ-v",
        "outputId": "ec68571d-1735-4020-bf3d-73a1b941a5e1"
      },
      "execution_count": 50,
      "outputs": [
        {
          "output_type": "execute_result",
          "data": {
            "text/plain": [
              "0.029487604042987628"
            ]
          },
          "metadata": {},
          "execution_count": 50
        }
      ]
    },
    {
      "cell_type": "code",
      "source": [
        "def probability(t_value, n):\n",
        "  df = n - 2\n",
        "\n",
        "  # we calculate for both tails:\n",
        "\n",
        "  p = 2 * (1 - stats.t.cdf(abs(t), df))\n",
        "\n",
        "  if p < 0.05:\n",
        "    return f'Your p value is {p}. It is < 0.05 -> H1 is acceptable!'\n",
        "\n",
        "  else:\n",
        "    return f'Your p value is {p}. It is > 0.05 -> H0 can not be thrown away'"
      ],
      "metadata": {
        "id": "LRYxqZ5wKV_u"
      },
      "execution_count": 51,
      "outputs": []
    },
    {
      "cell_type": "code",
      "source": [
        "n = len(x1) + len(x2)\n",
        "probability(t, n)"
      ],
      "metadata": {
        "colab": {
          "base_uri": "https://localhost:8080/",
          "height": 36
        },
        "id": "ukPJe1ebLRKU",
        "outputId": "3de3795f-c907-438e-fb97-9c699b712fcd"
      },
      "execution_count": 52,
      "outputs": [
        {
          "output_type": "execute_result",
          "data": {
            "text/plain": [
              "'Your p value is 0.9765356733077417. It is > 0.05 -> H0 can not be thrown away'"
            ],
            "application/vnd.google.colaboratory.intrinsic+json": {
              "type": "string"
            }
          },
          "metadata": {},
          "execution_count": 52
        }
      ]
    },
    {
      "cell_type": "code",
      "source": [],
      "metadata": {
        "id": "1n9ozcR6M6vo"
      },
      "execution_count": 52,
      "outputs": []
    }
  ]
}