{
  "nbformat": 4,
  "nbformat_minor": 0,
  "metadata": {
    "colab": {
      "provenance": []
    },
    "kernelspec": {
      "name": "python3",
      "display_name": "Python 3"
    },
    "language_info": {
      "name": "python"
    }
  },
  "cells": [
    {
      "cell_type": "code",
      "execution_count": 1,
      "metadata": {
        "id": "3HPf6Yu9fe9Y"
      },
      "outputs": [],
      "source": [
        "import numpy as np"
      ]
    },
    {
      "cell_type": "code",
      "source": [
        "def z_standartization(distribution):\n",
        "  mean_ = np.mean(distribution)\n",
        "  D = 0\n",
        "\n",
        "  for i in distribution:\n",
        "    D += (i - mean_) ** 2\n",
        "\n",
        "  D = D / (len(distribution) - 1)\n",
        "  sd = D ** 0.5\n",
        "  print(sd)\n",
        "\n",
        "  z_score = []\n",
        "\n",
        "  for i in distribution:\n",
        "    z_score.append((i - mean_) / sd)\n",
        "\n",
        "  return np.array(z_score)"
      ],
      "metadata": {
        "id": "EWWXXPPRfl-H"
      },
      "execution_count": 25,
      "outputs": []
    },
    {
      "cell_type": "code",
      "source": [
        "a = np.random.randint(1, 5, 10)\n",
        "a"
      ],
      "metadata": {
        "colab": {
          "base_uri": "https://localhost:8080/"
        },
        "id": "9Qm99KX0gcx5",
        "outputId": "e65596af-b006-4260-a546-365ff682375b"
      },
      "execution_count": 26,
      "outputs": [
        {
          "output_type": "execute_result",
          "data": {
            "text/plain": [
              "array([3, 4, 1, 4, 2, 1, 4, 2, 3, 3])"
            ]
          },
          "metadata": {},
          "execution_count": 26
        }
      ]
    },
    {
      "cell_type": "code",
      "source": [
        "z_standartizied = z_standartization(a)"
      ],
      "metadata": {
        "colab": {
          "base_uri": "https://localhost:8080/"
        },
        "id": "GGiH81EAgarH",
        "outputId": "8ef9dd3c-4c64-4c79-9ee5-d01c8784cfe0"
      },
      "execution_count": 27,
      "outputs": [
        {
          "output_type": "stream",
          "name": "stdout",
          "text": [
            "1.1595018087284057\n"
          ]
        }
      ]
    },
    {
      "cell_type": "code",
      "source": [
        "mean = round(np.mean(z_standartizied))\n",
        "mean"
      ],
      "metadata": {
        "colab": {
          "base_uri": "https://localhost:8080/"
        },
        "id": "oGt3HJp0gjGu",
        "outputId": "30c6e15b-b083-4982-8f09-6b4e7bd6ae82"
      },
      "execution_count": 31,
      "outputs": [
        {
          "output_type": "execute_result",
          "data": {
            "text/plain": [
              "0"
            ]
          },
          "metadata": {},
          "execution_count": 31
        }
      ]
    },
    {
      "cell_type": "code",
      "source": [
        "D = 0\n",
        "\n",
        "for i in z_standartizied:\n",
        "  D += (i - mean) ** 2\n",
        "\n",
        "D = D / (len(z_standartizied) - 1)\n",
        "round(D)"
      ],
      "metadata": {
        "colab": {
          "base_uri": "https://localhost:8080/"
        },
        "id": "gSfQV2bagzqm",
        "outputId": "771f52cc-7d68-4aa5-c500-e64c88bddfa8"
      },
      "execution_count": 33,
      "outputs": [
        {
          "output_type": "execute_result",
          "data": {
            "text/plain": [
              "1"
            ]
          },
          "metadata": {},
          "execution_count": 33
        }
      ]
    },
    {
      "cell_type": "code",
      "source": [],
      "metadata": {
        "id": "4DqYAs42h3q1"
      },
      "execution_count": null,
      "outputs": []
    }
  ]
}