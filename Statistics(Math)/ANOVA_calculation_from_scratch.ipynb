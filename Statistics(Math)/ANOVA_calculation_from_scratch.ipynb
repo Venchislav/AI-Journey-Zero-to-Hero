{
  "nbformat": 4,
  "nbformat_minor": 0,
  "metadata": {
    "colab": {
      "provenance": []
    },
    "kernelspec": {
      "name": "python3",
      "display_name": "Python 3"
    },
    "language_info": {
      "name": "python"
    }
  },
  "cells": [
    {
      "cell_type": "code",
      "execution_count": 14,
      "metadata": {
        "id": "NkrN0n0sFsNn"
      },
      "outputs": [],
      "source": [
        "import numpy as np\n",
        "import scipy.stats as stats"
      ]
    },
    {
      "cell_type": "code",
      "source": [
        "def anova(a, b, c):\n",
        "  total_mean = np.mean(a + b + c)\n",
        "\n",
        "  sst = 0\n",
        "\n",
        "  for i in a + b + c:\n",
        "    sst += (i - total_mean) ** 2\n",
        "\n",
        "  ssb = 0\n",
        "\n",
        "  ssb += len(a) * ((np.mean(a) - total_mean) ** 2)\n",
        "  ssb += len(b) * ((np.mean(b) - total_mean) ** 2)\n",
        "  ssb += len(c) * ((np.mean(c) - total_mean) ** 2)\n",
        "\n",
        "  df_ssb = 2\n",
        "\n",
        "  ssw = sst - ssb\n",
        "\n",
        "  df_ssw = len(a) + len(b) + len(c) - 3\n",
        "\n",
        "\n",
        "  f_val = (ssb / df_ssb) / (ssw / df_ssw)\n",
        "\n",
        "  return f_val, df_ssw, df_ssb"
      ],
      "metadata": {
        "id": "MtdOVNPWF37y"
      },
      "execution_count": 18,
      "outputs": []
    },
    {
      "cell_type": "code",
      "source": [
        "a = [3, 1, 2]\n",
        "b = [5, 3, 4]\n",
        "c = [7, 6, 5]"
      ],
      "metadata": {
        "id": "tuYOIzEjGgOg"
      },
      "execution_count": 12,
      "outputs": []
    },
    {
      "cell_type": "code",
      "source": [
        "f, sw, sb = anova(a, b, c)  # f value output"
      ],
      "metadata": {
        "id": "MwEgfup4GqrA"
      },
      "execution_count": 19,
      "outputs": []
    },
    {
      "cell_type": "code",
      "source": [
        "print(stats.f.sf(f, sb, sw))"
      ],
      "metadata": {
        "colab": {
          "base_uri": "https://localhost:8080/"
        },
        "id": "Uo9YzMkFHmP9",
        "outputId": "5cf2bc24-1592-4573-d917-80049b3cee5f"
      },
      "execution_count": 24,
      "outputs": [
        {
          "output_type": "stream",
          "name": "stdout",
          "text": [
            "0.008000000000000002\n"
          ]
        }
      ]
    },
    {
      "cell_type": "code",
      "source": [
        "# it's less than 0.05.\n",
        "# That's good!\n",
        "# It means at least means of 2 of our groups are significantly different"
      ],
      "metadata": {
        "id": "D2Er5M39MUeH"
      },
      "execution_count": 25,
      "outputs": []
    },
    {
      "cell_type": "code",
      "source": [
        "import matplotlib.pyplot as plt"
      ],
      "metadata": {
        "id": "E5W57IekMl6P"
      },
      "execution_count": 26,
      "outputs": []
    },
    {
      "cell_type": "code",
      "source": [
        "def build_confidence_intervals(a, b, c):\n",
        "  up = [1.96 * np.std(a), 1.96 * np.std(b), 1.96 * np.std(c)]\n",
        "  down = [1.96 * np.std(a), 1.96 * np.std(b), 1.96 * np.std(c)]\n",
        "  M = [np.mean(a), np.mean(b), np.mean(c)]\n",
        "\n",
        "  fig = plt.figure()\n",
        "  x = ['1st group', '2nd group', '3rd group']\n",
        "  y = M\n",
        "  yerr = [up, down]\n",
        "\n",
        "  plt.title('Confidence intervals')\n",
        "  plt.errorbar(x, y, yerr=yerr, capsize=3, fmt=\"r--o\", ecolor = \"black\")\n",
        "  plt.show()\n",
        "\n",
        "build_confidence_intervals(a, b, c);"
      ],
      "metadata": {
        "colab": {
          "base_uri": "https://localhost:8080/",
          "height": 452
        },
        "id": "H9WhyQ-eMpW-",
        "outputId": "0a7be7a5-3b72-49fc-bcde-b9c14538d308"
      },
      "execution_count": 31,
      "outputs": [
        {
          "output_type": "display_data",
          "data": {
            "text/plain": [
              "<Figure size 640x480 with 1 Axes>"
            ],
            "image/png": "[encoded data removed]"
          },
          "metadata": {}
        }
      ]
    },
    {
      "cell_type": "code",
      "source": [],
      "metadata": {
        "id": "_6ZYztOVNklG"
      },
      "execution_count": null,
      "outputs": []
    }
  ]
}