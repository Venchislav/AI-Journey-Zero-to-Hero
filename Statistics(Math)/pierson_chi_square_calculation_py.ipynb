{
  "nbformat": 4,
  "nbformat_minor": 0,
  "metadata": {
    "colab": {
      "provenance": []
    },
    "kernelspec": {
      "name": "python3",
      "display_name": "Python 3"
    },
    "language_info": {
      "name": "python"
    }
  },
  "cells": [
    {
      "cell_type": "code",
      "execution_count": 38,
      "metadata": {
        "id": "GdJOntL3HluH"
      },
      "outputs": [],
      "source": [
        "def chi_sq(observed, expected):\n",
        "  x_sq = 0\n",
        "\n",
        "  assert len(observed) == len(expected)\n",
        "\n",
        "  for i in range(len(observed)):\n",
        "    x_sq += (observed[i] - expected[i]) ** 2 / expected[i]\n",
        "\n",
        "  return x_sq"
      ]
    },
    {
      "cell_type": "code",
      "source": [
        "chi_sq([1220, 1240], [1230, 1230])"
      ],
      "metadata": {
        "colab": {
          "base_uri": "https://localhost:8080/"
        },
        "id": "5SZUpdnyI6U3",
        "outputId": "9e846cc2-2b5a-4425-9302-cfde92483a19"
      },
      "execution_count": 39,
      "outputs": [
        {
          "output_type": "execute_result",
          "data": {
            "text/plain": [
              "0.16260162601626016"
            ]
          },
          "metadata": {},
          "execution_count": 39
        }
      ]
    },
    {
      "cell_type": "code",
      "source": [
        "import scipy.stats"
      ],
      "metadata": {
        "id": "oYVFNDz9L7Sn"
      },
      "execution_count": 36,
      "outputs": []
    },
    {
      "cell_type": "code",
      "source": [
        "scipy.stats.chisquare(f_obs=[1220, 1240], f_exp=[1230, 1230])"
      ],
      "metadata": {
        "colab": {
          "base_uri": "https://localhost:8080/"
        },
        "id": "SIL5LqSxMZjO",
        "outputId": "4ce3da2c-3789-4556-d7e5-38b6a41c7e81"
      },
      "execution_count": 37,
      "outputs": [
        {
          "output_type": "execute_result",
          "data": {
            "text/plain": [
              "Power_divergenceResult(statistic=0.16260162601626016, pvalue=0.6867724711187833)"
            ]
          },
          "metadata": {},
          "execution_count": 37
        }
      ]
    },
    {
      "cell_type": "markdown",
      "source": [
        "**Sadly for now I don't know how to calculate p-value** <br>\n",
        "Later this code will be updated"
      ],
      "metadata": {
        "id": "D93-wz52NHhh"
      }
    },
    {
      "cell_type": "code",
      "source": [],
      "metadata": {
        "id": "lPrdotYeMbsO"
      },
      "execution_count": null,
      "outputs": []
    }
  ]
}