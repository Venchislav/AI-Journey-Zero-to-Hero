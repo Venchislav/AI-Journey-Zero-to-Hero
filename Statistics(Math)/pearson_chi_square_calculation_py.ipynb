{
  "nbformat": 4,
  "nbformat_minor": 0,
  "metadata": {
    "colab": {
      "provenance": []
    },
    "kernelspec": {
      "name": "python3",
      "display_name": "Python 3"
    },
    "language_info": {
      "name": "python"
    }
  },
  "cells": [
    {
      "cell_type": "code",
      "execution_count": 93,
      "metadata": {
        "id": "GdJOntL3HluH"
      },
      "outputs": [],
      "source": [
        "def chi_sq(observed, expected):\n",
        "  x_sq = 0\n",
        "\n",
        "  assert len(observed) == len(expected)\n",
        "\n",
        "  for i in range(len(observed)):\n",
        "    x_sq += (observed[i] - expected[i]) ** 2 / expected[i]\n",
        "\n",
        "  return x_sq"
      ]
    },
    {
      "cell_type": "code",
      "source": [
        "chi_sq([1220, 1240], [1230, 1230])"
      ],
      "metadata": {
        "colab": {
          "base_uri": "https://localhost:8080/"
        },
        "id": "5SZUpdnyI6U3",
        "outputId": "48678055-f7a6-4090-99f4-cc7c8a43d217"
      },
      "execution_count": 94,
      "outputs": [
        {
          "output_type": "execute_result",
          "data": {
            "text/plain": [
              "0.16260162601626016"
            ]
          },
          "metadata": {},
          "execution_count": 94
        }
      ]
    },
    {
      "cell_type": "code",
      "source": [
        "import scipy.stats"
      ],
      "metadata": {
        "id": "oYVFNDz9L7Sn"
      },
      "execution_count": 95,
      "outputs": []
    },
    {
      "cell_type": "code",
      "source": [
        "scipy.stats.chisquare(f_obs=[1220, 1240], f_exp=[1230, 1230])"
      ],
      "metadata": {
        "colab": {
          "base_uri": "https://localhost:8080/"
        },
        "id": "SIL5LqSxMZjO",
        "outputId": "cf8a0950-2af8-4d0a-b199-d2b65ff43ee8"
      },
      "execution_count": 96,
      "outputs": [
        {
          "output_type": "execute_result",
          "data": {
            "text/plain": [
              "Power_divergenceResult(statistic=0.16260162601626016, pvalue=0.6867724711187833)"
            ]
          },
          "metadata": {},
          "execution_count": 96
        }
      ]
    },
    {
      "cell_type": "markdown",
      "source": [
        "**Sadly for now I don't know how to calculate p-value** <br>\n",
        "Later this code will be updated"
      ],
      "metadata": {
        "id": "D93-wz52NHhh"
      }
    },
    {
      "cell_type": "code",
      "source": [
        "import random\n",
        "import matplotlib.pyplot as plt"
      ],
      "metadata": {
        "id": "w_llMmI7Ot9B"
      },
      "execution_count": 97,
      "outputs": []
    },
    {
      "cell_type": "code",
      "source": [
        "y = []\n",
        "for i in range(1_000):\n",
        "    x = [random.randint(0, 1) for _ in range(100)]\n",
        "\n",
        "    y.append((x.count(0) - 50)**2 / 50 + (x.count(1) - 50)**2 / 50)\n",
        "\n",
        "plt.title('Chi Square Distribution')\n",
        "plt.hist(y)\n",
        "plt.show()"
      ],
      "metadata": {
        "colab": {
          "base_uri": "https://localhost:8080/",
          "height": 452
        },
        "id": "ERREUuFOPnke",
        "outputId": "779d3b3e-a4a6-4e4b-dd69-c704950c665a"
      },
      "execution_count": 98,
      "outputs": [
        {
          "output_type": "display_data",
          "data": {
            "text/plain": [
              "<Figure size 640x480 with 1 Axes>"
            ],
            "image/png": "[encoded data removed]"
          },
          "metadata": {}
        }
      ]
    },
    {
      "cell_type": "code",
      "source": [],
      "metadata": {
        "id": "DLABPBWSQdQW"
      },
      "execution_count": 98,
      "outputs": []
    }
  ]
}