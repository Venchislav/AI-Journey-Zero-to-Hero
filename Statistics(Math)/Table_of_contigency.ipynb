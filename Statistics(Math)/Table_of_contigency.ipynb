{
  "nbformat": 4,
  "nbformat_minor": 0,
  "metadata": {
    "colab": {
      "provenance": []
    },
    "kernelspec": {
      "name": "python3",
      "display_name": "Python 3"
    },
    "language_info": {
      "name": "python"
    }
  },
  "cells": [
    {
      "cell_type": "code",
      "execution_count": 1,
      "metadata": {
        "id": "KR93FuqK9Z6O"
      },
      "outputs": [],
      "source": [
        "import scipy.stats as stats"
      ]
    },
    {
      "cell_type": "code",
      "source": [
        "observed = [[10, 6], [5, 15]]"
      ],
      "metadata": {
        "id": "NL9RQ2KP9ebC"
      },
      "execution_count": 2,
      "outputs": []
    },
    {
      "cell_type": "code",
      "source": [
        "stats.chi2_contingency(observed).expected_freq"
      ],
      "metadata": {
        "colab": {
          "base_uri": "https://localhost:8080/"
        },
        "id": "8m0VtLZq9pFK",
        "outputId": "8a9b140a-26cc-4ee1-fc53-4afc925c988b"
      },
      "execution_count": 5,
      "outputs": [
        {
          "output_type": "execute_result",
          "data": {
            "text/plain": [
              "array([[ 6.66666667,  9.33333333],\n",
              "       [ 8.33333333, 11.66666667]])"
            ]
          },
          "metadata": {},
          "execution_count": 5
        }
      ]
    },
    {
      "cell_type": "markdown",
      "source": [
        "Formula of expected values is:\n",
        "\n",
        "$$f_{i,j} = {f_i * f_J \\over N}$$\n",
        "\n",
        "$f_i$\n",
        " −число наблюдений в i−ой строке\n",
        " ​<br>\n",
        "$f_j$\n",
        " −число наблюдений в j−ом столбце,\n",
        "​<br>\n",
        "$N$−общее количество наблюдений в таблице.\n",
        "___\n",
        "\n",
        "$f_i$\n",
        " −number of values in ith row\n",
        " ​<br>\n",
        "$f_j$\n",
        " −number of values in jth column,\n",
        "​<br>\n",
        "$N$−total number of values."
      ],
      "metadata": {
        "id": "NX7IVF1T-HmI"
      }
    },
    {
      "cell_type": "code",
      "source": [
        "def value_of_tables(matrix):\n",
        "  result_matrix = [[0, 0], [0, 0]]\n",
        "\n",
        "  for row in range(2):\n",
        "    for col in range(2):\n",
        "      result_matrix[row][col] = (sum(matrix[row][:]) * sum(matrix[:][col])) / (sum(observed[1][:]) + sum(observed[0][:]))\n",
        "\n",
        "  return result_matrix"
      ],
      "metadata": {
        "id": "5DQ6A56CAIR9"
      },
      "execution_count": 14,
      "outputs": []
    },
    {
      "cell_type": "code",
      "source": [
        "value_of_tables(observed)"
      ],
      "metadata": {
        "colab": {
          "base_uri": "https://localhost:8080/"
        },
        "id": "hWED0WnnCpcZ",
        "outputId": "28c7d371-87d3-4344-e55f-7e2c3a81beb4"
      },
      "execution_count": 15,
      "outputs": [
        {
          "output_type": "execute_result",
          "data": {
            "text/plain": [
              "[[7.111111111111111, 8.88888888888889], [8.88888888888889, 11.11111111111111]]"
            ]
          },
          "metadata": {},
          "execution_count": 15
        }
      ]
    },
    {
      "cell_type": "code",
      "source": [],
      "metadata": {
        "id": "AblEhm7kDHaQ"
      },
      "execution_count": null,
      "outputs": []
    }
  ]
}