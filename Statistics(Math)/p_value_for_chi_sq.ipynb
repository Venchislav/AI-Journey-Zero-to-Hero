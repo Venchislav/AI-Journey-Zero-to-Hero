{
  "nbformat": 4,
  "nbformat_minor": 0,
  "metadata": {
    "colab": {
      "provenance": []
    },
    "kernelspec": {
      "name": "python3",
      "display_name": "Python 3"
    },
    "language_info": {
      "name": "python"
    }
  },
  "cells": [
    {
      "cell_type": "code",
      "execution_count": 4,
      "metadata": {
        "id": "E4bcJtWdkQEO"
      },
      "outputs": [],
      "source": [
        "import numpy as np\n",
        "from scipy import stats"
      ]
    },
    {
      "cell_type": "code",
      "source": [
        "def calculate_chi_sqare(obs, exp):\n",
        "  chi = 0\n",
        "\n",
        "  for i in range(len(obs)):\n",
        "    chi += ((obs[i] - exp[i]) ** 2) / exp[i]\n",
        "\n",
        "  return chi"
      ],
      "metadata": {
        "id": "-S3G_xK-kWF3"
      },
      "execution_count": 2,
      "outputs": []
    },
    {
      "cell_type": "markdown",
      "source": [
        "**Nice💪**"
      ],
      "metadata": {
        "id": "0wGwBQk5ldPb"
      }
    },
    {
      "cell_type": "code",
      "source": [
        "calculate_chi_sqare([10, 10, 10, 5, 10, 15], [10, 10, 10, 10, 10, 10])"
      ],
      "metadata": {
        "colab": {
          "base_uri": "https://localhost:8080/"
        },
        "id": "tppRh4u0k9I3",
        "outputId": "97cda673-bfe2-4a07-9ae8-7de8845a9a3c"
      },
      "execution_count": 3,
      "outputs": [
        {
          "output_type": "execute_result",
          "data": {
            "text/plain": [
              "5.0"
            ]
          },
          "metadata": {},
          "execution_count": 3
        }
      ]
    },
    {
      "cell_type": "code",
      "source": [
        "def calculate_p_value(obs, exp):\n",
        "  chi_sq = calculate_chi_sqare(obs, exp)\n",
        "  df = len(obs) - 1\n",
        "\n",
        "  return 1 - stats.chi2.cdf(chi_sq, df)"
      ],
      "metadata": {
        "id": "Q74HIQvTlcLn"
      },
      "execution_count": 11,
      "outputs": []
    },
    {
      "cell_type": "code",
      "source": [
        "observed = [10, 10, 10, 5, 10, 15]\n",
        "expected = [10, 10, 10, 10, 10, 10]"
      ],
      "metadata": {
        "id": "0sxo3MLlmkxV"
      },
      "execution_count": 12,
      "outputs": []
    },
    {
      "cell_type": "code",
      "source": [
        "calculate_p_value(observed, expected)"
      ],
      "metadata": {
        "colab": {
          "base_uri": "https://localhost:8080/"
        },
        "id": "wCq5en3vmgTe",
        "outputId": "b4a00175-5b4c-4f4e-e955-4446d88eec00"
      },
      "execution_count": 13,
      "outputs": [
        {
          "output_type": "execute_result",
          "data": {
            "text/plain": [
              "0.415880186995508"
            ]
          },
          "metadata": {},
          "execution_count": 13
        }
      ]
    },
    {
      "cell_type": "code",
      "source": [
        "def validate_p_value(p_value, alpha):\n",
        "  return 'H0 rejected' if p_value > alpha else 'H0 can not be rejected'"
      ],
      "metadata": {
        "id": "SXujZ66Hmr6G"
      },
      "execution_count": 14,
      "outputs": []
    },
    {
      "cell_type": "code",
      "source": [
        "p_val = calculate_p_value(observed, expected)\n",
        "alpha = 0.05"
      ],
      "metadata": {
        "id": "PcfKZ09bnklq"
      },
      "execution_count": 15,
      "outputs": []
    },
    {
      "cell_type": "code",
      "source": [
        "validate_p_value(p_val, alpha)"
      ],
      "metadata": {
        "colab": {
          "base_uri": "https://localhost:8080/",
          "height": 36
        },
        "id": "CX07E2BPnf4u",
        "outputId": "a37823f3-d4d6-4823-b16e-e2fe6506e1e5"
      },
      "execution_count": 16,
      "outputs": [
        {
          "output_type": "execute_result",
          "data": {
            "text/plain": [
              "'H0 rejected'"
            ],
            "application/vnd.google.colaboratory.intrinsic+json": {
              "type": "string"
            }
          },
          "metadata": {},
          "execution_count": 16
        }
      ]
    }
  ]
}