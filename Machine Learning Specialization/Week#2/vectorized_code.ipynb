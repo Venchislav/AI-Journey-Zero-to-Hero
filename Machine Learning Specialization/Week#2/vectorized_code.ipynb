{
  "nbformat": 4,
  "nbformat_minor": 0,
  "metadata": {
    "colab": {
      "provenance": []
    },
    "kernelspec": {
      "name": "python3",
      "display_name": "Python 3"
    },
    "language_info": {
      "name": "python"
    }
  },
  "cells": [
    {
      "cell_type": "markdown",
      "source": [
        "This notebook is an additional thing. <br>\n",
        "It is not connected with Machine Learning that much, but it is important <br>\n",
        "as it improves perfomance"
      ],
      "metadata": {
        "id": "HqH_UdGBp24f"
      }
    },
    {
      "cell_type": "code",
      "execution_count": 12,
      "metadata": {
        "id": "1C6lCgmpp0ct"
      },
      "outputs": [],
      "source": [
        "import numpy as np\n",
        "import time\n",
        "import random"
      ]
    },
    {
      "cell_type": "markdown",
      "source": [
        "Test #1 <br>\n",
        "Dot Product: <br>\n",
        "___\n",
        "Specification: <br>\n",
        "100_000_000 elements vector"
      ],
      "metadata": {
        "id": "LWe3OerTqXZC"
      }
    },
    {
      "cell_type": "code",
      "source": [
        "vector_1 = [random.random() for _ in range(100_000_000)]\n",
        "vector_2 = [random.random() for _ in range(100_000_000)]"
      ],
      "metadata": {
        "id": "_RjL6_V3qOqb"
      },
      "execution_count": 15,
      "outputs": []
    },
    {
      "cell_type": "code",
      "source": [
        "dot_product = 0\n",
        "\n",
        "start_time = time.time()\n",
        "\n",
        "for i in range(len(vector_1)):\n",
        "  dot_product += vector_1[i] * vector_2[i]\n",
        "\n",
        "print(f'Execution passed!   Time:  {time.time() - start_time}')\n",
        "print(dot_product)"
      ],
      "metadata": {
        "colab": {
          "base_uri": "https://localhost:8080/"
        },
        "id": "Fij3Lo-3quks",
        "outputId": "5050821c-496a-496f-dc14-221560b28818"
      },
      "execution_count": 16,
      "outputs": [
        {
          "output_type": "stream",
          "name": "stdout",
          "text": [
            "Execution passed!   Time:  22.98056983947754\n",
            "25000825.313394997\n"
          ]
        }
      ]
    },
    {
      "cell_type": "code",
      "source": [
        "# NumPy time!!!\n",
        "\n",
        "vector_1 = np.array(vector_1)\n",
        "vector_2 = np.array(vector_2)"
      ],
      "metadata": {
        "id": "qZ1UvQWFrUNy"
      },
      "execution_count": 17,
      "outputs": []
    },
    {
      "cell_type": "code",
      "source": [
        "start_time = time.time()\n",
        "product = np.dot(vector_1, vector_2)\n",
        "\n",
        "print(product)\n",
        "print(f'Execution passed!   Time:  {time.time() - start_time}')"
      ],
      "metadata": {
        "colab": {
          "base_uri": "https://localhost:8080/"
        },
        "id": "rfRMs_yXr7-i",
        "outputId": "0ec3ba2e-ed67-4310-bb8f-ef18082308cc"
      },
      "execution_count": 18,
      "outputs": [
        {
          "output_type": "stream",
          "name": "stdout",
          "text": [
            "25000825.313397586\n",
            "Execution passed!   Time:  0.6585009098052979\n"
          ]
        }
      ]
    },
    {
      "cell_type": "markdown",
      "source": [
        "Holy Smokes! <br>\n",
        "That's sick"
      ],
      "metadata": {
        "id": "5G333xrUsRTP"
      }
    },
    {
      "cell_type": "markdown",
      "source": [
        "Test #2 <br>\n",
        "Substraction <br>"
      ],
      "metadata": {
        "id": "wxFuXcNfsXRx"
      }
    },
    {
      "cell_type": "code",
      "source": [
        "start_time = time.time()\n",
        "\n",
        "for i in range(len(vector_1)):\n",
        "  vector_1[i] = vector_1[i] - vector_2[i]\n",
        "\n",
        "print(vector_1)\n",
        "print(f'Execution passed!   Time:  {time.time() - start_time}')"
      ],
      "metadata": {
        "colab": {
          "base_uri": "https://localhost:8080/"
        },
        "id": "0DDB3KEFsQHS",
        "outputId": "e45491a9-898b-440e-aff0-a87697ce06db"
      },
      "execution_count": 19,
      "outputs": [
        {
          "output_type": "stream",
          "name": "stdout",
          "text": [
            "[ 0.52882299  0.03833475  0.33041008 ...  0.15630152 -0.34038346\n",
            " -0.11384635]\n",
            "Execution passed!   Time:  50.110501527786255\n"
          ]
        }
      ]
    },
    {
      "cell_type": "code",
      "source": [
        "# NumPy time!\n",
        "\n",
        "start_time = time.time()\n",
        "vector_1 = vector_1 - vector_2\n",
        "\n",
        "print(vector_1)\n",
        "print(f'Execution passed!   Time:  {time.time() - start_time}')"
      ],
      "metadata": {
        "colab": {
          "base_uri": "https://localhost:8080/"
        },
        "id": "AWsSLhzks2oC",
        "outputId": "ab03772d-948a-4358-80d6-7419816e363e"
      },
      "execution_count": 20,
      "outputs": [
        {
          "output_type": "stream",
          "name": "stdout",
          "text": [
            "[ 0.1161671  -0.11101228  0.09970466 ... -0.46026285 -0.77659827\n",
            " -0.95660081]\n",
            "Execution passed!   Time:  0.8086519241333008\n"
          ]
        }
      ]
    },
    {
      "cell_type": "markdown",
      "source": [
        "Thanks, Travis! <br>\n",
        "\n",
        "<img src='https://sig.com/images/about/meetourpeople/Banner-SS-oliphant-1.jpg' width=35%>"
      ],
      "metadata": {
        "id": "3qxE8LGHtQGG"
      }
    },
    {
      "cell_type": "code",
      "source": [],
      "metadata": {
        "id": "iWZ23yOEtPCa"
      },
      "execution_count": null,
      "outputs": []
    }
  ]
}