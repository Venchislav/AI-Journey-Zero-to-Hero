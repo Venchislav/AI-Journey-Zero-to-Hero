{
  "nbformat": 4,
  "nbformat_minor": 0,
  "metadata": {
    "colab": {
      "provenance": []
    },
    "kernelspec": {
      "name": "python3",
      "display_name": "Python 3"
    },
    "language_info": {
      "name": "python"
    }
  },
  "cells": [
    {
      "cell_type": "code",
      "execution_count": 236,
      "metadata": {
        "id": "CjqZgU_BhZnq"
      },
      "outputs": [],
      "source": [
        "import numpy as np\n",
        "import matplotlib.pyplot as plt"
      ]
    },
    {
      "cell_type": "code",
      "source": [
        "class KNNClassifier:\n",
        "    def __init__(self, k=3):\n",
        "        self.k = k\n",
        "\n",
        "    def fit(self, X_train, y_train):\n",
        "        self.X_train = X_train\n",
        "        self.y_train = y_train\n",
        "\n",
        "    def predict(self, X_test):\n",
        "        predictions = []\n",
        "        for x in X_test:\n",
        "            neighbors = self.get_neighbors(x)\n",
        "            most_common_label = self.majority_vote(neighbors)\n",
        "            predictions.append(most_common_label)\n",
        "        return np.array(predictions)\n",
        "\n",
        "    def get_neighbors(self, x):\n",
        "        distances = [np.sqrt(np.sum((x-x_train)**2)) for x_train in self.X_train]\n",
        "        sorted_indices = np.argsort(distances)[:self.k]\n",
        "        neighbors = [self.y_train[i] for i in sorted_indices]\n",
        "        return neighbors\n",
        "\n",
        "    def majority_vote(self, neighbors):\n",
        "        labels = [label for label in neighbors]\n",
        "        counts = np.bincount(labels)\n",
        "        return np.argmax(counts)"
      ],
      "metadata": {
        "id": "qH5Fuhbphf7h"
      },
      "execution_count": 237,
      "outputs": []
    },
    {
      "cell_type": "code",
      "source": [
        "clf = KNNClassifier(2)\n",
        "\n",
        "X = np.array([1.0, 2.0, 3.0, 4.0, 5.0, 6.0])\n",
        "\n",
        "# Target variable\n",
        "y = np.array([0, 0, 0, 1, 1, 1])"
      ],
      "metadata": {
        "id": "AIl4YIlGkcsy"
      },
      "execution_count": 238,
      "outputs": []
    },
    {
      "cell_type": "code",
      "source": [
        "plt.title('Data plotted')\n",
        "plt.scatter(X, y, c=y);"
      ],
      "metadata": {
        "colab": {
          "base_uri": "https://localhost:8080/",
          "height": 452
        },
        "id": "EIQdcqxfkvRh",
        "outputId": "b1145b3e-a0ba-4f83-cc0c-d7222af7239f"
      },
      "execution_count": 239,
      "outputs": [
        {
          "output_type": "display_data",
          "data": {
            "text/plain": [
              "<Figure size 640x480 with 1 Axes>"
            ],
            "image/png": "[encoded data removed]"
          },
          "metadata": {}
        }
      ]
    },
    {
      "cell_type": "code",
      "source": [
        "clf.fit(X, y)"
      ],
      "metadata": {
        "id": "LOyIA7mOlTYJ"
      },
      "execution_count": 240,
      "outputs": []
    },
    {
      "cell_type": "code",
      "source": [
        "y_pred = clf.predict(np.array([6]))\n",
        "y_pred"
      ],
      "metadata": {
        "colab": {
          "base_uri": "https://localhost:8080/"
        },
        "id": "DSDBk5aulpZY",
        "outputId": "e7f6694c-22ea-4539-9e52-e97bcda4b59f"
      },
      "execution_count": 241,
      "outputs": [
        {
          "output_type": "execute_result",
          "data": {
            "text/plain": [
              "array([1])"
            ]
          },
          "metadata": {},
          "execution_count": 241
        }
      ]
    },
    {
      "cell_type": "code",
      "source": [
        "plt.scatter(X, y, c=y);\n",
        "plt.scatter([6], y_pred);"
      ],
      "metadata": {
        "colab": {
          "base_uri": "https://localhost:8080/",
          "height": 430
        },
        "id": "PaY3iJLFl2CA",
        "outputId": "bded2590-8c46-4cde-b151-697bdfcf163c"
      },
      "execution_count": 242,
      "outputs": [
        {
          "output_type": "display_data",
          "data": {
            "text/plain": [
              "<Figure size 640x480 with 1 Axes>"
            ],
            "image/png": "[encoded data removed]"
          },
          "metadata": {}
        }
      ]
    },
    {
      "cell_type": "code",
      "source": [
        "class KNNRegressor:\n",
        "    def __init__(self, k=3):\n",
        "        self.k = k\n",
        "\n",
        "    def fit(self, X_train, y_train):\n",
        "        self.X_train = X_train\n",
        "        self.y_train = y_train\n",
        "\n",
        "    def predict(self, X_test):\n",
        "        predictions = []\n",
        "        for x in X_test:\n",
        "            neighbors = self.get_neighbors(x)\n",
        "            predictions.append(np.mean(neighbors))\n",
        "        return np.array(predictions)\n",
        "\n",
        "    def get_neighbors(self, x):\n",
        "        distances = [np.sqrt(np.sum((x-x_train)**2)) for x_train in self.X_train]\n",
        "        sorted_indices = np.argsort(distances)[:self.k]\n",
        "        neighbors = [self.y_train[i] for i in sorted_indices]\n",
        "        return neighbors"
      ],
      "metadata": {
        "id": "9qcExYkpm_yV"
      },
      "execution_count": 243,
      "outputs": []
    },
    {
      "cell_type": "code",
      "source": [
        "np.random.seed(0)\n",
        "X = np.sort(5 * np.random.rand(40, 1), axis=0)\n",
        "y = np.sin(X).ravel()\n",
        "\n",
        "y += 0.1 * np.random.randn(len(X))"
      ],
      "metadata": {
        "id": "qO_rEHo-ok_V"
      },
      "execution_count": 244,
      "outputs": []
    },
    {
      "cell_type": "code",
      "source": [
        "regr = KNNRegressor(3)\n",
        "regr.fit(X, y)"
      ],
      "metadata": {
        "id": "aEdsW92so4c_"
      },
      "execution_count": 245,
      "outputs": []
    },
    {
      "cell_type": "code",
      "source": [
        "y_pred = regr.predict(np.array([2.45]))"
      ],
      "metadata": {
        "id": "mk_1Is20pH95"
      },
      "execution_count": 246,
      "outputs": []
    },
    {
      "cell_type": "code",
      "source": [
        "y_pred"
      ],
      "metadata": {
        "colab": {
          "base_uri": "https://localhost:8080/"
        },
        "id": "iQc1tHORpuLP",
        "outputId": "d5ba3058-5a9f-4942-b76b-40bd2df6b2cc"
      },
      "execution_count": 247,
      "outputs": [
        {
          "output_type": "execute_result",
          "data": {
            "text/plain": [
              "array([0.70233762])"
            ]
          },
          "metadata": {},
          "execution_count": 247
        }
      ]
    },
    {
      "cell_type": "code",
      "source": [
        "plt.scatter(X, y);\n",
        "plt.scatter([2.45], y_pred);"
      ],
      "metadata": {
        "colab": {
          "base_uri": "https://localhost:8080/",
          "height": 430
        },
        "id": "7sE0drsCpC5h",
        "outputId": "23827e33-6924-4fa7-b7fe-ee0419e395c2"
      },
      "execution_count": 248,
      "outputs": [
        {
          "output_type": "display_data",
          "data": {
            "text/plain": [
              "<Figure size 640x480 with 1 Axes>"
            ],
            "image/png": "[encoded data removed]"
          },
          "metadata": {}
        }
      ]
    },
    {
      "cell_type": "code",
      "source": [
        "y_pred = regr.predict(np.array([2.45, 4.89]))\n",
        "plt.scatter(X, y);\n",
        "plt.scatter(np.array([2.45, 4.89]), y_pred);"
      ],
      "metadata": {
        "colab": {
          "base_uri": "https://localhost:8080/",
          "height": 430
        },
        "id": "d2Rg292QpRZ7",
        "outputId": "27dc224a-71f4-4bfe-8d58-4fc20384c5fe"
      },
      "execution_count": 249,
      "outputs": [
        {
          "output_type": "display_data",
          "data": {
            "text/plain": [
              "<Figure size 640x480 with 1 Axes>"
            ],
            "image/png": "[encoded data removed]"
          },
          "metadata": {}
        }
      ]
    },
    {
      "cell_type": "markdown",
      "source": [
        "Fr"
      ],
      "metadata": {
        "id": "-jO0QDD1qy-O"
      }
    },
    {
      "cell_type": "markdown",
      "source": [
        "Yo dude that was EZ!<br><img src='https://ih1.redbubble.net/image.2640711373.3373/st,small,845x845-pad,1000x1000,f8f8f8.u3.jpg' width=5%>"
      ],
      "metadata": {
        "id": "4xK-DMKWrROO"
      }
    },
    {
      "cell_type": "code",
      "source": [],
      "metadata": {
        "id": "UJkhaIJOqw4X"
      },
      "execution_count": 249,
      "outputs": []
    }
  ]
}