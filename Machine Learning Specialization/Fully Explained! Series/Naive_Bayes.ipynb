{
  "nbformat": 4,
  "nbformat_minor": 0,
  "metadata": {
    "colab": {
      "provenance": []
    },
    "kernelspec": {
      "name": "python3",
      "display_name": "Python 3"
    },
    "language_info": {
      "name": "python"
    }
  },
  "cells": [
    {
      "cell_type": "code",
      "execution_count": 1,
      "metadata": {
        "id": "ghvI-aLrbUIV"
      },
      "outputs": [],
      "source": [
        "import numpy as np"
      ]
    },
    {
      "cell_type": "code",
      "source": [
        "class NaiveBayes:\n",
        "  def __init__(self):\n",
        "    self.classes = None\n",
        "    self.mean = None\n",
        "    self.var = None\n",
        "    self.class_prior = None\n",
        "\n",
        "  def fit(self, X, y):\n",
        "    n_samlpes, n_features = X.shape\n",
        "    self.classes = np.unique(y)\n",
        "    n_classes = len(self.classes)\n",
        "\n",
        "    self.mean = np.zeros((n_classes, n_features))\n",
        "    self.var = np.zeros((n_classes, n_features))\n",
        "    self.class_prior = np.zeros(n_classes)\n",
        "\n",
        "    for i, c in enumerate(self.classes):\n",
        "      X_c = X[y == c]\n",
        "      self.mean[i, :] = X_c.mean(axis=0)\n",
        "      self.var[i, :] = X_c.var(axis=0)\n",
        "      self.class_prior[i] = X_c.shape[0] / n_samlpes\n",
        "\n",
        "  def predict(self, X):\n",
        "    return np.array([self.predict_single(x) for x in X])\n",
        "\n",
        "  def predict_single(self, x):\n",
        "      posteriors = []\n",
        "\n",
        "      # calculate posterior probability for each class\n",
        "      for idx, c in enumerate(self.classes):\n",
        "          prior = np.log(self.class_prior[idx])\n",
        "          posterior = np.sum(np.log(self._pdf(idx, x)))\n",
        "          posterior = posterior + prior\n",
        "          posteriors.append(posterior)\n",
        "\n",
        "        # return class with the highest posterior\n",
        "      return self.classes[np.argmax(posteriors)]\n",
        "\n",
        "  def _pdf(self, class_idx, x):\n",
        "      mean = self.mean[class_idx]\n",
        "      var = self.var[class_idx]\n",
        "      numerator = np.exp(-((x - mean) ** 2) / (2 * var))\n",
        "      denominator = np.sqrt(2 * np.pi * var)\n",
        "      return numerator / denominator"
      ],
      "metadata": {
        "id": "aqT6hwgwbZQl"
      },
      "execution_count": 10,
      "outputs": []
    },
    {
      "cell_type": "code",
      "source": [
        "X_train = np.array([[1.0, 2.1],\n",
        "                        [2.0, 1.1],\n",
        "                        [1.3, 1.8],\n",
        "                        [3.0, 3.0],\n",
        "                        [2.7, 2.5]])\n",
        "y_train = np.array([0, 0, 0, 1, 1])\n",
        "\n",
        "\n",
        "model = NaiveBayes()\n",
        "model.fit(X_train, y_train)\n",
        "\n",
        "    # Sample test data\n",
        "X_test = np.array([[1.1, 2.0],\n",
        "                  [2.9, 2.8]])\n",
        "\n",
        "y_pred = model.predict(X_test)\n",
        "print(\"Predictions:\", y_pred)"
      ],
      "metadata": {
        "colab": {
          "base_uri": "https://localhost:8080/"
        },
        "id": "JxvWOIf1d4Nb",
        "outputId": "1183a33b-ca2e-489e-c9fb-c4fda023c5b4"
      },
      "execution_count": 11,
      "outputs": [
        {
          "output_type": "stream",
          "name": "stdout",
          "text": [
            "Predictions: [0 1]\n"
          ]
        }
      ]
    },
    {
      "cell_type": "code",
      "source": [],
      "metadata": {
        "id": "ByJ1DHSGeCPy"
      },
      "execution_count": 11,
      "outputs": []
    }
  ]
}