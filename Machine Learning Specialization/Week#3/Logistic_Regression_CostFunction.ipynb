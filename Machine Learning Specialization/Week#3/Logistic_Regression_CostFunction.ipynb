{
  "nbformat": 4,
  "nbformat_minor": 0,
  "metadata": {
    "colab": {
      "provenance": []
    },
    "kernelspec": {
      "name": "python3",
      "display_name": "Python 3"
    },
    "language_info": {
      "name": "python"
    }
  },
  "cells": [
    {
      "cell_type": "code",
      "execution_count": 21,
      "metadata": {
        "id": "UaGE4WLncIOI"
      },
      "outputs": [],
      "source": [
        "import numpy as np\n",
        "import matplotlib.pyplot as plt"
      ]
    },
    {
      "cell_type": "markdown",
      "source": [
        "As I understood<br>\n",
        "(Maybe I'm wrong) <br>\n",
        "It's Named **Cross-Entropy**\n"
      ],
      "metadata": {
        "id": "75HvpV0-cxM0"
      }
    },
    {
      "cell_type": "code",
      "source": [
        "def cost_function(y_pred, y):\n",
        "  cost = 0\n",
        "\n",
        "  for i in range(len(y_pred)):\n",
        "    if y[i] == 1:\n",
        "      cost = cost - np.log(y_pred[i])\n",
        "    elif y[i] == 0:\n",
        "      cost = cost - np.log(1 - y_pred[i])\n",
        "    else:\n",
        "      raise ValueError(\"WTF DUDE?! Seems you need something else\")\n",
        "\n",
        "  return 1 / len(y_pred) * cost"
      ],
      "metadata": {
        "id": "X7u6PG6kcTvs"
      },
      "execution_count": 22,
      "outputs": []
    },
    {
      "cell_type": "code",
      "source": [
        "cost_function([1, 0, 1, 1, 0], [1, 0, 1, 1, 0])"
      ],
      "metadata": {
        "colab": {
          "base_uri": "https://localhost:8080/"
        },
        "id": "XjwarPGnenCM",
        "outputId": "49b4010a-97fc-4f15-b0dc-ed544cba22e5"
      },
      "execution_count": 23,
      "outputs": [
        {
          "output_type": "execute_result",
          "data": {
            "text/plain": [
              "0.0"
            ]
          },
          "metadata": {},
          "execution_count": 23
        }
      ]
    },
    {
      "cell_type": "code",
      "source": [
        "cost_function([1, 0, 0.999, 0.999, 0], [1, 0, 1, 0, 0])"
      ],
      "metadata": {
        "colab": {
          "base_uri": "https://localhost:8080/"
        },
        "id": "rHqUsBlxerVE",
        "outputId": "1c0b3b86-340f-4861-bded-caf671c9fb8f"
      },
      "execution_count": 26,
      "outputs": [
        {
          "output_type": "execute_result",
          "data": {
            "text/plain": [
              "1.3817511558631441"
            ]
          },
          "metadata": {},
          "execution_count": 26
        }
      ]
    },
    {
      "cell_type": "markdown",
      "source": [
        "Seems it's no mistakes here"
      ],
      "metadata": {
        "id": "1hWiaNniffNb"
      }
    },
    {
      "cell_type": "code",
      "source": [
        "# this code will be updated\n",
        "# Maybe...\n",
        "# I don't really know brah"
      ],
      "metadata": {
        "id": "GcLasZ22eun0"
      },
      "execution_count": 27,
      "outputs": []
    },
    {
      "cell_type": "code",
      "source": [
        "# btw it's strange.\n",
        "# Implementing Math in code..."
      ],
      "metadata": {
        "id": "8WkaIyrqfxGM"
      },
      "execution_count": 28,
      "outputs": []
    },
    {
      "cell_type": "markdown",
      "source": [
        "<img src='https://media1.tenor.com/m/DIinTL2H22IAAAAC/doomguy-evil-grin.gif' width=200px>"
      ],
      "metadata": {
        "id": "x85H0pbqfxuM"
      }
    },
    {
      "cell_type": "code",
      "source": [],
      "metadata": {
        "id": "gvQAx7R6f6B8"
      },
      "execution_count": null,
      "outputs": []
    }
  ]
}