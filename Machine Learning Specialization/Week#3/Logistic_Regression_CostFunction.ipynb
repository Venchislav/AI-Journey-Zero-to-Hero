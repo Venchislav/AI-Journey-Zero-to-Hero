{
  "nbformat": 4,
  "nbformat_minor": 0,
  "metadata": {
    "colab": {
      "provenance": []
    },
    "kernelspec": {
      "name": "python3",
      "display_name": "Python 3"
    },
    "language_info": {
      "name": "python"
    }
  },
  "cells": [
    {
      "cell_type": "code",
      "execution_count": 1,
      "metadata": {
        "id": "UaGE4WLncIOI"
      },
      "outputs": [],
      "source": [
        "import numpy as np\n",
        "import matplotlib.pyplot as plt"
      ]
    },
    {
      "cell_type": "markdown",
      "source": [
        "As I understood<br>\n",
        "(Maybe I'm wrong) <br>\n",
        "It's Named **Cross-Entropy**\n"
      ],
      "metadata": {
        "id": "75HvpV0-cxM0"
      }
    },
    {
      "cell_type": "code",
      "source": [
        "def cost_function(y_pred, y):\n",
        "  cost = 0\n",
        "\n",
        "  for i in range(len(y_pred)):\n",
        "    if y[i] == 1:\n",
        "      cost = cost - np.log(y_pred[i])\n",
        "    elif y[i] == 0:\n",
        "      cost = cost - np.log(1 - y_pred[i])\n",
        "    else:\n",
        "      raise ValueError(\"WTF DUDE?! Seems you need something else\")\n",
        "\n",
        "  return 1 / len(y_pred) * cost"
      ],
      "metadata": {
        "id": "X7u6PG6kcTvs"
      },
      "execution_count": 2,
      "outputs": []
    },
    {
      "cell_type": "code",
      "source": [
        "cost_function([1, 0, 1, 1, 0], [1, 0, 1, 1, 0])"
      ],
      "metadata": {
        "colab": {
          "base_uri": "https://localhost:8080/"
        },
        "id": "XjwarPGnenCM",
        "outputId": "89ffcedd-b701-4259-d779-bfe01d2eadd5"
      },
      "execution_count": 3,
      "outputs": [
        {
          "output_type": "execute_result",
          "data": {
            "text/plain": [
              "0.0"
            ]
          },
          "metadata": {},
          "execution_count": 3
        }
      ]
    },
    {
      "cell_type": "code",
      "source": [
        "cost_function([1, 0, 0.999, 0.999, 0], [1, 0, 1, 0, 0])"
      ],
      "metadata": {
        "colab": {
          "base_uri": "https://localhost:8080/"
        },
        "id": "rHqUsBlxerVE",
        "outputId": "1620066d-94c0-4663-e2f1-fb8984b11e22"
      },
      "execution_count": 4,
      "outputs": [
        {
          "output_type": "execute_result",
          "data": {
            "text/plain": [
              "1.3817511558631441"
            ]
          },
          "metadata": {},
          "execution_count": 4
        }
      ]
    },
    {
      "cell_type": "markdown",
      "source": [
        "Seems it's no mistakes here"
      ],
      "metadata": {
        "id": "1hWiaNniffNb"
      }
    },
    {
      "cell_type": "code",
      "source": [
        "# this code will be updated\n",
        "# Maybe...\n",
        "# I don't really know brah"
      ],
      "metadata": {
        "id": "GcLasZ22eun0"
      },
      "execution_count": 5,
      "outputs": []
    },
    {
      "cell_type": "code",
      "source": [
        "# btw it's strange.\n",
        "# Implementing Math in code..."
      ],
      "metadata": {
        "id": "8WkaIyrqfxGM"
      },
      "execution_count": 6,
      "outputs": []
    },
    {
      "cell_type": "code",
      "source": [
        "def compute_cost(y_pred, y):\n",
        "    error = (y * np.log(y_pred)) + ((1 - y) * np.log(1 - y_pred))\n",
        "    cost = -1 / len(y) * sum(error)\n",
        "    return cost[0]"
      ],
      "metadata": {
        "id": "B-IWUtUM7Lk-"
      },
      "execution_count": 8,
      "outputs": []
    },
    {
      "cell_type": "code",
      "source": [
        "cost_function([1, 0, 1, 1, 0], [1, 0, 1, 1, 0])"
      ],
      "metadata": {
        "colab": {
          "base_uri": "https://localhost:8080/"
        },
        "outputId": "3289db8c-7096-4080-f5e4-7ad814500131",
        "id": "7iXDyqiM7cXq"
      },
      "execution_count": 9,
      "outputs": [
        {
          "output_type": "execute_result",
          "data": {
            "text/plain": [
              "0.0"
            ]
          },
          "metadata": {},
          "execution_count": 9
        }
      ]
    },
    {
      "cell_type": "code",
      "source": [
        "cost_function([1, 0, 0.999, 0.999, 0], [1, 0, 1, 0, 0])"
      ],
      "metadata": {
        "colab": {
          "base_uri": "https://localhost:8080/"
        },
        "outputId": "11cabf2e-7d9c-4a2b-adad-12c71e11b39d",
        "id": "nFzUvrbe7cXq"
      },
      "execution_count": 10,
      "outputs": [
        {
          "output_type": "execute_result",
          "data": {
            "text/plain": [
              "1.3817511558631441"
            ]
          },
          "metadata": {},
          "execution_count": 10
        }
      ]
    },
    {
      "cell_type": "markdown",
      "source": [
        "<img src='https://media1.tenor.com/m/DIinTL2H22IAAAAC/doomguy-evil-grin.gif' width=200px>"
      ],
      "metadata": {
        "id": "x85H0pbqfxuM"
      }
    }
  ]
}