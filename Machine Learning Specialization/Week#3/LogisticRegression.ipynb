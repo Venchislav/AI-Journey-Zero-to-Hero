{
  "nbformat": 4,
  "nbformat_minor": 0,
  "metadata": {
    "colab": {
      "provenance": []
    },
    "kernelspec": {
      "name": "python3",
      "display_name": "Python 3"
    },
    "language_info": {
      "name": "python"
    }
  },
  "cells": [
    {
      "cell_type": "code",
      "execution_count": 155,
      "metadata": {
        "id": "zDSfcySCK3Lj"
      },
      "outputs": [],
      "source": [
        "import numpy as np"
      ]
    },
    {
      "cell_type": "code",
      "source": [
        "class LogisticRegression:\n",
        "  def __init__(self):\n",
        "    self.loss_history = []\n",
        "\n",
        "  def cost_function(self, y_pred, y):\n",
        "    cost = 0\n",
        "\n",
        "    for i in range(len(y_pred)):\n",
        "      if y[i] == 1:\n",
        "        cost = cost - np.log(y_pred[i])\n",
        "      elif y[i] == 0:\n",
        "        cost = cost - np.log(1 - y_pred[i])\n",
        "      else:\n",
        "        raise ValueError(\"WTF DUDE?! Seems you need something else\")\n",
        "\n",
        "    return 1 / len(y_pred) * cost\n",
        "\n",
        "  def fit(self, X, y, epochs=100, lr=0.01):\n",
        "    n_samples, n_features = X.shape\n",
        "\n",
        "    self.weights = np.zeros(n_features)\n",
        "    self.bias = 0\n",
        "\n",
        "    for epoch in range(epochs):\n",
        "      dw = np.zeros(n_features)\n",
        "      db = 0\n",
        "\n",
        "      for i in range(n_samples):\n",
        "        dw += (1 / (1 + np.e ** (-np.dot(self.weights, X[i]) + self.bias)) - y[i]) * X[i]\n",
        "        db += 1 / (1 + np.e ** (-np.dot(self.weights, X[i]) + self.bias)) - y[i]\n",
        "\n",
        "      self.weights -= 1 / n_samples * dw * lr\n",
        "      self.bias -= 1 / n_samples * db * lr\n",
        "\n",
        "      cost = self.cost_function(self.predict(X), y)\n",
        "      self.loss_history.append(cost)\n",
        "      print(cost)\n",
        "\n",
        "  def predict(self, X):\n",
        "    preds = []\n",
        "\n",
        "    for value in X:\n",
        "      preds.append(1 / (1 + np.e ** (-np.dot(value, self.weights) + self.bias)))\n",
        "    return preds"
      ],
      "metadata": {
        "id": "ZX0-S8mXK9o3"
      },
      "execution_count": 156,
      "outputs": []
    },
    {
      "cell_type": "code",
      "source": [
        "X = [[1.2, 1.1, 1.0],\n",
        "     [1.1, 0.3, 0.9],\n",
        "     [0.15, 0.15, 1.09],\n",
        "     [1.4, 1.2, 0.16],\n",
        "     [0.23, 0.12, 0.09],\n",
        "     [1.12, 0, 0]]\n",
        "\n",
        "X = np.array(X)\n",
        "y = np.array([1, 1, 0, 1, 0, 0])\n",
        "X.shape, y.shape"
      ],
      "metadata": {
        "colab": {
          "base_uri": "https://localhost:8080/"
        },
        "id": "mlixHeteNA67",
        "outputId": "1ea760bc-cc9e-4148-b14b-a865e60ff62b"
      },
      "execution_count": 157,
      "outputs": [
        {
          "output_type": "execute_result",
          "data": {
            "text/plain": [
              "((6, 3), (6,))"
            ]
          },
          "metadata": {},
          "execution_count": 157
        }
      ]
    },
    {
      "cell_type": "code",
      "source": [
        "model = LogisticRegression()\n",
        "model.fit(X, y, epochs=300, lr=0.01)"
      ],
      "metadata": {
        "id": "XMsqJ8OIM4eP",
        "colab": {
          "base_uri": "https://localhost:8080/"
        },
        "outputId": "f94cd0e6-84e8-4972-e16e-5a7260970a27"
      },
      "execution_count": 158,
      "outputs": [
        {
          "output_type": "stream",
          "name": "stdout",
          "text": [
            "0.692381702624751\n",
            "0.6916218844030952\n",
            "0.6908677021721061\n",
            "0.6901191322698017\n",
            "0.6893761510960104\n",
            "0.6886387351132692\n",
            "0.6879068608477068\n",
            "0.6871805048899042\n",
            "0.6864596438957379\n",
            "0.6857442545872057\n",
            "0.685034313753231\n",
            "0.6843297982504517\n",
            "0.6836306850039879\n",
            "0.6829369510081953\n",
            "0.6822485733273959\n",
            "0.6815655290965955\n",
            "0.6808877955221815\n",
            "0.6802153498826025\n",
            "0.6795481695290322\n",
            "0.6788862318860158\n",
            "0.6782295144520993\n",
            "0.6775779948004416\n",
            "0.6769316505794111\n",
            "0.6762904595131654\n",
            "0.6756543994022143\n",
            "0.6750234481239669\n",
            "0.6743975836332641\n",
            "0.6737767839628939\n",
            "0.6731610272240914\n",
            "0.6725502916070241\n",
            "0.6719445553812614\n",
            "0.6713437968962298\n",
            "0.6707479945816526\n",
            "0.6701571269479745\n",
            "0.6695711725867742\n",
            "0.6689901101711585\n",
            "0.6684139184561475\n",
            "0.6678425762790405\n",
            "0.6672760625597723\n",
            "0.6667143563012541\n",
            "0.6661574365897002\n",
            "0.6656052825949443\n",
            "0.6650578735707389\n",
            "0.6645151888550453\n",
            "0.6639772078703087\n",
            "0.6634439101237213\n",
            "0.6629152752074736\n",
            "0.6623912827989932\n",
            "0.6618719126611705\n",
            "0.6613571446425744\n",
            "0.6608469586776549\n",
            "0.6603413347869349\n",
            "0.6598402530771901\n",
            "0.659343693741618\n",
            "0.6588516370599964\n",
            "0.6583640633988299\n",
            "0.6578809532114864\n",
            "0.6574022870383232\n",
            "0.6569280455068027\n",
            "0.6564582093315972\n",
            "0.6559927593146844\n",
            "0.6555316763454329\n",
            "0.6550749414006778\n",
            "0.6546225355447867\n",
            "0.654174439929716\n",
            "0.6537306357950596\n",
            "0.6532911044680855\n",
            "0.6528558273637661\n",
            "0.6524247859847989\n",
            "0.6519979619216179\n",
            "0.6515753368523969\n",
            "0.6511568925430451\n",
            "0.6507426108471935\n",
            "0.6503324737061738\n",
            "0.6499264631489892\n",
            "0.6495245612922773\n",
            "0.6491267503402658\n",
            "0.6487330125847203\n",
            "0.6483433304048848\n",
            "0.6479576862674152\n",
            "0.6475760627263052\n",
            "0.6471984424228063\n",
            "0.6468248080853396\n",
            "0.6464551425294015\n",
            "0.6460894286574643\n",
            "0.645727649458867\n",
            "0.6453697880097036\n",
            "0.6450158274727026\n",
            "0.6446657510971012\n",
            "0.6443195422185144\n",
            "0.6439771842587969\n",
            "0.6436386607259001\n",
            "0.6433039552137242\n",
            "0.6429730514019629\n",
            "0.6426459330559452\n",
            "0.6423225840264699\n",
            "0.6420029882496364\n",
            "0.64168712974667\n",
            "0.6413749926237415\n",
            "0.6410665610717846\n",
            "0.6407618193663052\n",
            "0.6404607518671885\n",
            "0.6401633430185016\n",
            "0.6398695773482908\n",
            "0.6395794394683743\n",
            "0.6392929140741331\n",
            "0.6390099859442949\n",
            "0.6387306399407168\n",
            "0.6384548610081615\n",
            "0.6381826341740722\n",
            "0.6379139445483424\n",
            "0.6376487773230824\n",
            "0.6373871177723829\n",
            "0.6371289512520741\n",
            "0.6368742631994835\n",
            "0.6366230391331881\n",
            "0.6363752646527652\n",
            "0.6361309254385394\n",
            "0.6358900072513278\n",
            "0.6356524959321801\n",
            "0.6354183774021188\n",
            "0.6351876376618742\n",
            "0.6349602627916188\n",
            "0.634736238950697\n",
            "0.6345155523773554\n",
            "0.6342981893884674\n",
            "0.6340841363792579\n",
            "0.6338733798230243\n",
            "0.6336659062708572\n",
            "0.633461702351357\n",
            "0.6332607547703489\n",
            "0.633063050310598\n",
            "0.6328685758315189\n",
            "0.6326773182688877\n",
            "0.6324892646345491\n",
            "0.6323044020161224\n",
            "0.6321227175767072\n",
            "0.6319441985545869\n",
            "0.6317688322629303\n",
            "0.6315966060894912\n",
            "0.6314275074963094\n",
            "0.6312615240194069\n",
            "0.6310986432684857\n",
            "0.6309388529266221\n",
            "0.630782140749962\n",
            "0.6306284945674134\n",
            "0.6304779022803401\n",
            "0.63033035186225\n",
            "0.6301858313584889\n",
            "0.6300443288859281\n",
            "0.6299058326326532\n",
            "0.6297703308576527\n",
            "0.6296378118905045\n",
            "0.6295082641310632\n",
            "0.6293816760491456\n",
            "0.6292580361842165\n",
            "0.6291373331450728\n",
            "0.6290195556095292\n",
            "0.6289046923241006\n",
            "0.6287927321036871\n",
            "0.6286836638312563\n",
            "0.6285774764575265\n",
            "0.6284741590006494\n",
            "0.6283737005458924\n",
            "0.628276090245321\n",
            "0.6281813173174804\n",
            "0.6280893710470777\n",
            "0.6280002407846644\n",
            "0.6279139159463166\n",
            "0.6278303860133183\n",
            "0.6277496405318428\n",
            "0.6276716691126336\n",
            "0.6275964614306881\n",
            "0.627524007224938\n",
            "0.6274542962979323\n",
            "0.6273873185155194\n",
            "0.6273230638065305\n",
            "0.6272615221624611\n",
            "0.6272026836371547\n",
            "0.6271465383464867\n",
            "0.6270930764680475\n",
            "0.6270422882408261\n",
            "0.6269941639648957\n",
            "0.626948694001098\n",
            "0.6269058687707275\n",
            "0.6268656787552191\n",
            "0.6268281144958324\n",
            "0.6267931665933396\n",
            "0.626760825707712\n",
            "0.6267310825578074\n",
            "0.6267039279210601\n",
            "0.6266793526331675\n",
            "0.6266573475877808\n",
            "0.626637903736195\n",
            "0.6266210120870395\n",
            "0.626606663705969\n",
            "0.6265948497153561\n",
            "0.626585561293984\n",
            "0.6265787896767401\n",
            "0.6265745261543092\n",
            "0.6265727620728696\n",
            "0.6265734888337886\n",
            "0.6265766978933176\n",
            "0.6265823807622917\n",
            "0.6265905290058256\n",
            "0.626601134243014\n",
            "0.6266141881466304\n",
            "0.6266296824428279\n",
            "0.6266476089108409\n",
            "0.6266679593826872\n",
            "0.6266907257428711\n",
            "0.6267158999280877\n",
            "0.6267434739269282\n",
            "0.6267734397795844\n",
            "0.6268057895775578\n",
            "0.6268405154633656\n",
            "0.6268776096302504\n",
            "0.626917064321889\n",
            "0.6269588718321044\n",
            "0.6270030245045765\n",
            "0.6270495147325549\n",
            "0.627098334958573\n",
            "0.6271494776741622\n",
            "0.6272029354195678\n",
            "0.6272587007834662\n",
            "0.6273167664026811\n",
            "0.6273771249619047\n",
            "0.6274397691934148\n",
            "0.6275046918767981\n",
            "0.6275718858386704\n",
            "0.6276413439524009\n",
            "0.627713059137835\n",
            "0.6277870243610211\n",
            "0.6278632326339342\n",
            "0.6279416770142067\n",
            "0.6280223506048535\n",
            "0.6281052465540037\n",
            "0.62819035805463\n",
            "0.6282776783442809\n",
            "0.628367200704814\n",
            "0.6284589184621282\n",
            "0.6285528249859005\n",
            "0.6286489136893212\n",
            "0.6287471780288315\n",
            "0.6288476115038617\n",
            "0.6289502076565707\n",
            "0.6290549600715871\n",
            "0.6291618623757493\n",
            "0.6292709082378509\n",
            "0.6293820913683831\n",
            "0.6294954055192794\n",
            "0.6296108444836632\n",
            "0.6297284020955947\n",
            "0.6298480722298188\n",
            "0.629969848801516\n",
            "0.6300937257660519\n",
            "0.6302196971187307\n",
            "0.6303477568945461\n",
            "0.6304778991679383\n",
            "0.6306101180525467\n",
            "0.6307444077009686\n",
            "0.6308807623045154\n",
            "0.6310191760929718\n",
            "0.6311596433343565\n",
            "0.6313021583346821\n",
            "0.6314467154377178\n",
            "0.631593309024753\n",
            "0.6317419335143615\n",
            "0.6318925833621675\n",
            "0.6320452530606114\n",
            "0.632199937138719\n",
            "0.6323566301618695\n",
            "0.6325153267315663\n",
            "0.6326760214852075\n",
            "0.6328387090958596\n",
            "0.6330033842720295\n",
            "0.6331700417574402\n",
            "0.6333386763308062\n",
            "0.6335092828056106\n",
            "0.6336818560298828\n",
            "0.6338563908859781\n",
            "0.6340328822903573\n",
            "0.6342113251933685\n",
            "0.6343917145790294\n",
            "0.6345740454648112\n",
            "0.6347583129014225\n",
            "0.634944511972596\n",
            "0.6351326377948749\n",
            "0.6353226855174006\n",
            "0.6355146503217016\n",
            "0.635708527421485\n",
            "0.6359043120624266\n",
            "0.6361019995219626\n",
            "0.6363015851090843\n",
            "0.6365030641641322\n",
            "0.636706432058591\n",
            "0.636911684194887\n",
            "0.6371188160061847\n",
            "0.6373278229561865\n",
            "0.6375387005389325\n"
          ]
        }
      ]
    },
    {
      "cell_type": "code",
      "source": [
        "pred = model.predict(X)"
      ],
      "metadata": {
        "id": "Mwbu9ZtXNoQJ"
      },
      "execution_count": 159,
      "outputs": []
    },
    {
      "cell_type": "code",
      "source": [
        "pred"
      ],
      "metadata": {
        "colab": {
          "base_uri": "https://localhost:8080/"
        },
        "id": "c2SxBlp9NrkH",
        "outputId": "d8b7a815-f4f5-429a-999d-98f23b58647d"
      },
      "execution_count": 160,
      "outputs": [
        {
          "output_type": "execute_result",
          "data": {
            "text/plain": [
              "[0.7472988820400723,\n",
              " 0.6761240600647209,\n",
              " 0.6087056328240315,\n",
              " 0.754695707093655,\n",
              " 0.5960501221684611,\n",
              " 0.6380912510893261]"
            ]
          },
          "metadata": {},
          "execution_count": 160
        }
      ]
    },
    {
      "cell_type": "code",
      "source": [
        "import matplotlib.pyplot as plt"
      ],
      "metadata": {
        "id": "5FLKFvMeRHJb"
      },
      "execution_count": 161,
      "outputs": []
    },
    {
      "cell_type": "code",
      "source": [
        "plt.plot(model.loss_history);"
      ],
      "metadata": {
        "colab": {
          "base_uri": "https://localhost:8080/",
          "height": 430
        },
        "id": "bllcZ2ZjRRNo",
        "outputId": "44a00709-596c-428c-9407-aef3c1c73f18"
      },
      "execution_count": 162,
      "outputs": [
        {
          "output_type": "display_data",
          "data": {
            "text/plain": [
              "<Figure size 640x480 with 1 Axes>"
            ],
            "image/png": "[encoded data removed]"
          },
          "metadata": {}
        }
      ]
    },
    {
      "cell_type": "code",
      "source": [
        "# overfitting starts... And that's shitty...\n",
        "# we don't even reach good loss (0.63 is not good imho)"
      ],
      "metadata": {
        "id": "dRUNsFDURYdi"
      },
      "execution_count": 163,
      "outputs": []
    },
    {
      "cell_type": "code",
      "source": [
        "model = LogisticRegression()\n",
        "model.fit(X, y, epochs=200, lr=0.01)"
      ],
      "metadata": {
        "id": "uTPR42yyRh0n"
      },
      "execution_count": null,
      "outputs": []
    },
    {
      "cell_type": "code",
      "source": [
        "plt.plot(model.loss_history);"
      ],
      "metadata": {
        "colab": {
          "base_uri": "https://localhost:8080/",
          "height": 430
        },
        "id": "3ZjBFmMXRkmo",
        "outputId": "663796d9-8822-4840-b204-66c48d3106d5"
      },
      "execution_count": 165,
      "outputs": [
        {
          "output_type": "display_data",
          "data": {
            "text/plain": [
              "<Figure size 640x480 with 1 Axes>"
            ],
            "image/png": "[encoded data removed]"
          },
          "metadata": {}
        }
      ]
    }
  ]
}